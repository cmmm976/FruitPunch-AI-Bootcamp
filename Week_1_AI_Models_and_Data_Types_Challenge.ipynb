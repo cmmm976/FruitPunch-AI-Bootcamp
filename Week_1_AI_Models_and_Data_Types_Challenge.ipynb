{
  "nbformat": 4,
  "nbformat_minor": 0,
  "metadata": {
    "colab": {
      "name": "Copie de Week 1 - AI Models and Data Types - Challenge",
      "provenance": [],
      "collapsed_sections": [],
      "include_colab_link": true
    },
    "kernelspec": {
      "name": "python3",
      "display_name": "Python 3"
    },
    "language_info": {
      "name": "python"
    },
    "accelerator": "GPU"
  },
  "cells": [
    {
      "cell_type": "markdown",
      "metadata": {
        "id": "view-in-github",
        "colab_type": "text"
      },
      "source": [
        "<a href=\"https://colab.research.google.com/github/cmmm976/FruitPunch-AI-Bootcamp/blob/main/Week_1_AI_Models_and_Data_Types_Challenge.ipynb\" target=\"_parent\"><img src=\"https://colab.research.google.com/assets/colab-badge.svg\" alt=\"Open In Colab\"/></a>"
      ]
    },
    {
      "cell_type": "code",
      "metadata": {
        "id": "BHWKD5MdpL-s"
      },
      "source": [
        "import pandas as pd\n",
        "import numpy as np\n",
        "import matplotlib.pyplot as plt\n",
        "import plotly.express as px\n",
        "import plotly.graph_objects as go"
      ],
      "execution_count": null,
      "outputs": []
    },
    {
      "cell_type": "markdown",
      "metadata": {
        "id": "tg7FU1IOp8sr"
      },
      "source": [
        "# Common AI models"
      ]
    },
    {
      "cell_type": "markdown",
      "metadata": {
        "id": "HdgY22i6qVUB"
      },
      "source": [
        "# Classic machine learning models\n",
        "\n",
        "## Assignment 1\n",
        "From the Sklearn library choose models of at least the following types, train them on the 6 imported datasets, evaluate their accuracy or R^2 and see which model works best on which dataset. (Note that there are both regression and classification sets)\n",
        "* Tree\n",
        "* Neural Network\n",
        "* Neighbors\n",
        "* Ensemble\n",
        "* Naive Byes (classification only)\n",
        "* Linear\n",
        "\n",
        "## Assignment 2\n",
        "Use XGBoost running on GPU to predict the same datasets. You can activate GPU acceleration in the Runtime tab:\n",
        "Runtime -> Change runtime type -> Select GPU from the dropdown"
      ]
    },
    {
      "cell_type": "code",
      "metadata": {
        "id": "yUNtA_LMp877",
        "colab": {
          "base_uri": "https://localhost:8080/"
        },
        "outputId": "e9389b01-7e12-45a6-d106-e7754f79eea3"
      },
      "source": [
        "from sklearn.datasets import load_iris, load_boston, load_diabetes, load_digits, load_wine, load_breast_cancer\n",
        "from sklearn.metrics import accuracy_score, r2_score\n",
        "from sklearn.model_selection import train_test_split\n",
        "\n",
        "# Models\n",
        "from sklearn.tree import DecisionTreeClassifier\n",
        "from sklearn.linear_model import LogisticRegression\n",
        "from sklearn.neighbors import KNeighborsClassifier\n",
        "from sklearn.ensemble import RandomForestClassifier\n",
        "\n",
        "# Example of how to load and train\n",
        "X = load_iris().data\n",
        "y = load_iris().target\n",
        "\n",
        "X_train, X_test, y_train, y_test = train_test_split(X, y, test_size=0.33, random_state=42)\n",
        "\n",
        "tree = DecisionTreeClassifier(random_state=42)\n",
        "lr = LogisticRegression(random_state = 42,max_iter=1000)\n",
        "knn = KNeighborsClassifier(n_neighbors=3)\n",
        "rf_classifier = RandomForestClassifier(random_state = 42)\n",
        "\n",
        "model_1 = tree.fit(X=X_train, y=y_train)\n",
        "model_2 = lr.fit(X=X_train, y=y_train)\n",
        "model_3 = knn.fit(X=X_train, y=y_train)\n",
        "model_4 = rf_classifier.fit(X=X_train, y=y_train)\n",
        "\n",
        "\n",
        "y_pred_1 = model_1.predict(X_test)\n",
        "y_pred_2 = model_2.predict(X_test)\n",
        "y_pred_3 = model_3.predict(X_test)\n",
        "y_pred_4 = model_4.predict(X_test)\n",
        "\n",
        "\n",
        "\n",
        "score_1 = accuracy_score(y_test, y_pred_1)\n",
        "score_2 = accuracy_score(y_test, y_pred_2)\n",
        "score_3 = accuracy_score(y_test, y_pred_3)\n",
        "score_4 = accuracy_score(y_test, y_pred_4)\n",
        "\n",
        "\n",
        "print('Iris dataset :')\n",
        "print('Decision tree accuracy:', score_1)\n",
        "print('Logistic Regression accuracy:', score_2)\n",
        "print('KNN accuracy:', score_3)\n",
        "print('Random Forest accuracy:', score_4)"
      ],
      "execution_count": null,
      "outputs": [
        {
          "output_type": "stream",
          "name": "stdout",
          "text": [
            "Iris dataset :\n",
            "Decision tree accuracy: 0.98\n",
            "Logistic Regression accuracy: 1.0\n",
            "KNN accuracy: 0.98\n",
            "Random Forest accuracy: 0.98\n"
          ]
        }
      ]
    },
    {
      "cell_type": "code",
      "metadata": {
        "id": "QKgpKCj5Hpal"
      },
      "source": [
        ""
      ],
      "execution_count": null,
      "outputs": []
    },
    {
      "cell_type": "markdown",
      "metadata": {
        "id": "SPriRhw0RvPs"
      },
      "source": [
        "## Neural Nets"
      ]
    },
    {
      "cell_type": "markdown",
      "metadata": {
        "id": "6eLXHx8LuNsi"
      },
      "source": [
        "The moment you have all been waiting for, let's finally build our own neural network architecture! While you have already used Neural Nets in the previous assignment when using the Multi-Layer Perceptron (MLP), you did not really define an architecture. MLPs are generally a stack of fully connected a.k.a. Dense layers and that is what we will start with here as well. We will use one of the previous datasets and optimize the architecture below to improve the test accuracy."
      ]
    },
    {
      "cell_type": "code",
      "metadata": {
        "id": "5nDFkGF2nRlI",
        "colab": {
          "base_uri": "https://localhost:8080/"
        },
        "outputId": "add0af0a-5b46-4ffa-caff-8d0b61a83233"
      },
      "source": [
        "# Load dataset\n",
        "from sklearn.datasets import load_iris\n",
        "\n",
        "loader = load_iris()\n",
        "X = loader.data\n",
        "y = loader.target\n",
        "\n",
        "X_train, X_test, y_train, y_test = train_test_split(X, y, test_size=0.33, random_state=42)\n",
        "y_train[0]"
      ],
      "execution_count": null,
      "outputs": [
        {
          "output_type": "execute_result",
          "data": {
            "text/plain": [
              "1"
            ]
          },
          "metadata": {},
          "execution_count": 20
        }
      ]
    },
    {
      "cell_type": "code",
      "metadata": {
        "id": "ijBSA4DKvTk9",
        "colab": {
          "base_uri": "https://localhost:8080/",
          "height": 542
        },
        "outputId": "728b3730-d0bb-4833-c604-dbb681b5f2ea"
      },
      "source": [
        "px.scatter(X_train[:,0],X_train[:,1])"
      ],
      "execution_count": null,
      "outputs": [
        {
          "output_type": "display_data",
          "data": {
            "text/html": [
              "<html>\n",
              "<head><meta charset=\"utf-8\" /></head>\n",
              "<body>\n",
              "    <div>\n",
              "            <script src=\"https://cdnjs.cloudflare.com/ajax/libs/mathjax/2.7.5/MathJax.js?config=TeX-AMS-MML_SVG\"></script><script type=\"text/javascript\">if (window.MathJax) {MathJax.Hub.Config({SVG: {font: \"STIX-Web\"}});}</script>\n",
              "                <script type=\"text/javascript\">window.PlotlyConfig = {MathJaxConfig: 'local'};</script>\n",
              "        <script src=\"https://cdn.plot.ly/plotly-latest.min.js\"></script>    \n",
              "            <div id=\"471da93e-d8eb-4903-b2ac-65665e20bab5\" class=\"plotly-graph-div\" style=\"height:525px; width:100%;\"></div>\n",
              "            <script type=\"text/javascript\">\n",
              "                \n",
              "                    window.PLOTLYENV=window.PLOTLYENV || {};\n",
              "                    \n",
              "                if (document.getElementById(\"471da93e-d8eb-4903-b2ac-65665e20bab5\")) {\n",
              "                    Plotly.newPlot(\n",
              "                        '471da93e-d8eb-4903-b2ac-65665e20bab5',\n",
              "                        [{\"hoverlabel\": {\"namelength\": 0}, \"hovertemplate\": \"x=%{x}\", \"legendgroup\": \"\", \"marker\": {\"color\": \"#636efa\", \"symbol\": \"circle\"}, \"mode\": \"markers\", \"name\": \"\", \"showlegend\": false, \"type\": \"scatter\", \"x\": [2.9, 3.0, 3.0, 3.5, 2.8, 2.7, 3.4, 3.5, 3.8, 2.0, 2.7, 3.4, 3.0, 3.3, 2.7, 3.4, 3.0, 3.8, 3.2, 2.9, 2.5, 4.2, 3.0, 2.7, 2.2, 3.0, 3.4, 2.3, 3.9, 2.3, 2.7, 3.3, 3.2, 2.4, 3.0, 3.1, 2.8, 3.4, 3.5, 3.2, 2.5, 3.2, 2.7, 2.6, 3.0, 2.5, 2.9, 3.0, 2.2, 3.2, 3.1, 3.5, 3.0, 2.5, 3.4, 3.4, 3.0, 3.3, 3.2, 2.9, 2.8, 2.8, 3.2, 3.2, 3.8, 3.1, 3.0, 3.0, 2.6, 2.7, 3.0, 2.3, 2.9, 2.6, 3.7, 3.0, 2.9, 3.3, 3.7, 2.4, 3.3, 3.0, 3.6, 3.1, 3.0, 3.1, 2.8, 2.9, 2.8, 3.0, 2.3, 2.9, 2.8, 3.0, 3.4, 2.8, 2.5, 4.0, 2.6, 3.0], \"xaxis\": \"x\", \"yaxis\": \"y\"}],\n",
              "                        {\"legend\": {\"tracegroupgap\": 0}, \"margin\": {\"t\": 60}, \"template\": {\"data\": {\"bar\": [{\"error_x\": {\"color\": \"#2a3f5f\"}, \"error_y\": {\"color\": \"#2a3f5f\"}, \"marker\": {\"line\": {\"color\": \"#E5ECF6\", \"width\": 0.5}}, \"type\": \"bar\"}], \"barpolar\": [{\"marker\": {\"line\": {\"color\": \"#E5ECF6\", \"width\": 0.5}}, \"type\": \"barpolar\"}], \"carpet\": [{\"aaxis\": {\"endlinecolor\": \"#2a3f5f\", \"gridcolor\": \"white\", \"linecolor\": \"white\", \"minorgridcolor\": \"white\", \"startlinecolor\": \"#2a3f5f\"}, \"baxis\": {\"endlinecolor\": \"#2a3f5f\", \"gridcolor\": \"white\", \"linecolor\": \"white\", \"minorgridcolor\": \"white\", \"startlinecolor\": \"#2a3f5f\"}, \"type\": \"carpet\"}], \"choropleth\": [{\"colorbar\": {\"outlinewidth\": 0, \"ticks\": \"\"}, \"type\": \"choropleth\"}], \"contour\": [{\"colorbar\": {\"outlinewidth\": 0, \"ticks\": \"\"}, \"colorscale\": [[0.0, \"#0d0887\"], [0.1111111111111111, \"#46039f\"], [0.2222222222222222, \"#7201a8\"], [0.3333333333333333, \"#9c179e\"], [0.4444444444444444, \"#bd3786\"], [0.5555555555555556, \"#d8576b\"], [0.6666666666666666, \"#ed7953\"], [0.7777777777777778, \"#fb9f3a\"], [0.8888888888888888, \"#fdca26\"], [1.0, \"#f0f921\"]], \"type\": \"contour\"}], \"contourcarpet\": [{\"colorbar\": {\"outlinewidth\": 0, \"ticks\": \"\"}, \"type\": \"contourcarpet\"}], \"heatmap\": [{\"colorbar\": {\"outlinewidth\": 0, \"ticks\": \"\"}, \"colorscale\": [[0.0, \"#0d0887\"], [0.1111111111111111, \"#46039f\"], [0.2222222222222222, \"#7201a8\"], [0.3333333333333333, \"#9c179e\"], [0.4444444444444444, \"#bd3786\"], [0.5555555555555556, \"#d8576b\"], [0.6666666666666666, \"#ed7953\"], [0.7777777777777778, \"#fb9f3a\"], [0.8888888888888888, \"#fdca26\"], [1.0, \"#f0f921\"]], \"type\": \"heatmap\"}], \"heatmapgl\": [{\"colorbar\": {\"outlinewidth\": 0, \"ticks\": \"\"}, \"colorscale\": [[0.0, \"#0d0887\"], [0.1111111111111111, \"#46039f\"], [0.2222222222222222, \"#7201a8\"], [0.3333333333333333, \"#9c179e\"], [0.4444444444444444, \"#bd3786\"], [0.5555555555555556, \"#d8576b\"], [0.6666666666666666, \"#ed7953\"], [0.7777777777777778, \"#fb9f3a\"], [0.8888888888888888, \"#fdca26\"], [1.0, \"#f0f921\"]], \"type\": \"heatmapgl\"}], \"histogram\": [{\"marker\": {\"colorbar\": {\"outlinewidth\": 0, \"ticks\": \"\"}}, \"type\": \"histogram\"}], \"histogram2d\": [{\"colorbar\": {\"outlinewidth\": 0, \"ticks\": \"\"}, \"colorscale\": [[0.0, \"#0d0887\"], [0.1111111111111111, \"#46039f\"], [0.2222222222222222, \"#7201a8\"], [0.3333333333333333, \"#9c179e\"], [0.4444444444444444, \"#bd3786\"], [0.5555555555555556, \"#d8576b\"], [0.6666666666666666, \"#ed7953\"], [0.7777777777777778, \"#fb9f3a\"], [0.8888888888888888, \"#fdca26\"], [1.0, \"#f0f921\"]], \"type\": \"histogram2d\"}], \"histogram2dcontour\": [{\"colorbar\": {\"outlinewidth\": 0, \"ticks\": \"\"}, \"colorscale\": [[0.0, \"#0d0887\"], [0.1111111111111111, \"#46039f\"], [0.2222222222222222, \"#7201a8\"], [0.3333333333333333, \"#9c179e\"], [0.4444444444444444, \"#bd3786\"], [0.5555555555555556, \"#d8576b\"], [0.6666666666666666, \"#ed7953\"], [0.7777777777777778, \"#fb9f3a\"], [0.8888888888888888, \"#fdca26\"], [1.0, \"#f0f921\"]], \"type\": \"histogram2dcontour\"}], \"mesh3d\": [{\"colorbar\": {\"outlinewidth\": 0, \"ticks\": \"\"}, \"type\": \"mesh3d\"}], \"parcoords\": [{\"line\": {\"colorbar\": {\"outlinewidth\": 0, \"ticks\": \"\"}}, \"type\": \"parcoords\"}], \"pie\": [{\"automargin\": true, \"type\": \"pie\"}], \"scatter\": [{\"marker\": {\"colorbar\": {\"outlinewidth\": 0, \"ticks\": \"\"}}, \"type\": \"scatter\"}], \"scatter3d\": [{\"line\": {\"colorbar\": {\"outlinewidth\": 0, \"ticks\": \"\"}}, \"marker\": {\"colorbar\": {\"outlinewidth\": 0, \"ticks\": \"\"}}, \"type\": \"scatter3d\"}], \"scattercarpet\": [{\"marker\": {\"colorbar\": {\"outlinewidth\": 0, \"ticks\": \"\"}}, \"type\": \"scattercarpet\"}], \"scattergeo\": [{\"marker\": {\"colorbar\": {\"outlinewidth\": 0, \"ticks\": \"\"}}, \"type\": \"scattergeo\"}], \"scattergl\": [{\"marker\": {\"colorbar\": {\"outlinewidth\": 0, \"ticks\": \"\"}}, \"type\": \"scattergl\"}], \"scattermapbox\": [{\"marker\": {\"colorbar\": {\"outlinewidth\": 0, \"ticks\": \"\"}}, \"type\": \"scattermapbox\"}], \"scatterpolar\": [{\"marker\": {\"colorbar\": {\"outlinewidth\": 0, \"ticks\": \"\"}}, \"type\": \"scatterpolar\"}], \"scatterpolargl\": [{\"marker\": {\"colorbar\": {\"outlinewidth\": 0, \"ticks\": \"\"}}, \"type\": \"scatterpolargl\"}], \"scatterternary\": [{\"marker\": {\"colorbar\": {\"outlinewidth\": 0, \"ticks\": \"\"}}, \"type\": \"scatterternary\"}], \"surface\": [{\"colorbar\": {\"outlinewidth\": 0, \"ticks\": \"\"}, \"colorscale\": [[0.0, \"#0d0887\"], [0.1111111111111111, \"#46039f\"], [0.2222222222222222, \"#7201a8\"], [0.3333333333333333, \"#9c179e\"], [0.4444444444444444, \"#bd3786\"], [0.5555555555555556, \"#d8576b\"], [0.6666666666666666, \"#ed7953\"], [0.7777777777777778, \"#fb9f3a\"], [0.8888888888888888, \"#fdca26\"], [1.0, \"#f0f921\"]], \"type\": \"surface\"}], \"table\": [{\"cells\": {\"fill\": {\"color\": \"#EBF0F8\"}, \"line\": {\"color\": \"white\"}}, \"header\": {\"fill\": {\"color\": \"#C8D4E3\"}, \"line\": {\"color\": \"white\"}}, \"type\": \"table\"}]}, \"layout\": {\"annotationdefaults\": {\"arrowcolor\": \"#2a3f5f\", \"arrowhead\": 0, \"arrowwidth\": 1}, \"coloraxis\": {\"colorbar\": {\"outlinewidth\": 0, \"ticks\": \"\"}}, \"colorscale\": {\"diverging\": [[0, \"#8e0152\"], [0.1, \"#c51b7d\"], [0.2, \"#de77ae\"], [0.3, \"#f1b6da\"], [0.4, \"#fde0ef\"], [0.5, \"#f7f7f7\"], [0.6, \"#e6f5d0\"], [0.7, \"#b8e186\"], [0.8, \"#7fbc41\"], [0.9, \"#4d9221\"], [1, \"#276419\"]], \"sequential\": [[0.0, \"#0d0887\"], [0.1111111111111111, \"#46039f\"], [0.2222222222222222, \"#7201a8\"], [0.3333333333333333, \"#9c179e\"], [0.4444444444444444, \"#bd3786\"], [0.5555555555555556, \"#d8576b\"], [0.6666666666666666, \"#ed7953\"], [0.7777777777777778, \"#fb9f3a\"], [0.8888888888888888, \"#fdca26\"], [1.0, \"#f0f921\"]], \"sequentialminus\": [[0.0, \"#0d0887\"], [0.1111111111111111, \"#46039f\"], [0.2222222222222222, \"#7201a8\"], [0.3333333333333333, \"#9c179e\"], [0.4444444444444444, \"#bd3786\"], [0.5555555555555556, \"#d8576b\"], [0.6666666666666666, \"#ed7953\"], [0.7777777777777778, \"#fb9f3a\"], [0.8888888888888888, \"#fdca26\"], [1.0, \"#f0f921\"]]}, \"colorway\": [\"#636efa\", \"#EF553B\", \"#00cc96\", \"#ab63fa\", \"#FFA15A\", \"#19d3f3\", \"#FF6692\", \"#B6E880\", \"#FF97FF\", \"#FECB52\"], \"font\": {\"color\": \"#2a3f5f\"}, \"geo\": {\"bgcolor\": \"white\", \"lakecolor\": \"white\", \"landcolor\": \"#E5ECF6\", \"showlakes\": true, \"showland\": true, \"subunitcolor\": \"white\"}, \"hoverlabel\": {\"align\": \"left\"}, \"hovermode\": \"closest\", \"mapbox\": {\"style\": \"light\"}, \"paper_bgcolor\": \"white\", \"plot_bgcolor\": \"#E5ECF6\", \"polar\": {\"angularaxis\": {\"gridcolor\": \"white\", \"linecolor\": \"white\", \"ticks\": \"\"}, \"bgcolor\": \"#E5ECF6\", \"radialaxis\": {\"gridcolor\": \"white\", \"linecolor\": \"white\", \"ticks\": \"\"}}, \"scene\": {\"xaxis\": {\"backgroundcolor\": \"#E5ECF6\", \"gridcolor\": \"white\", \"gridwidth\": 2, \"linecolor\": \"white\", \"showbackground\": true, \"ticks\": \"\", \"zerolinecolor\": \"white\"}, \"yaxis\": {\"backgroundcolor\": \"#E5ECF6\", \"gridcolor\": \"white\", \"gridwidth\": 2, \"linecolor\": \"white\", \"showbackground\": true, \"ticks\": \"\", \"zerolinecolor\": \"white\"}, \"zaxis\": {\"backgroundcolor\": \"#E5ECF6\", \"gridcolor\": \"white\", \"gridwidth\": 2, \"linecolor\": \"white\", \"showbackground\": true, \"ticks\": \"\", \"zerolinecolor\": \"white\"}}, \"shapedefaults\": {\"line\": {\"color\": \"#2a3f5f\"}}, \"ternary\": {\"aaxis\": {\"gridcolor\": \"white\", \"linecolor\": \"white\", \"ticks\": \"\"}, \"baxis\": {\"gridcolor\": \"white\", \"linecolor\": \"white\", \"ticks\": \"\"}, \"bgcolor\": \"#E5ECF6\", \"caxis\": {\"gridcolor\": \"white\", \"linecolor\": \"white\", \"ticks\": \"\"}}, \"title\": {\"x\": 0.05}, \"xaxis\": {\"automargin\": true, \"gridcolor\": \"white\", \"linecolor\": \"white\", \"ticks\": \"\", \"title\": {\"standoff\": 15}, \"zerolinecolor\": \"white\", \"zerolinewidth\": 2}, \"yaxis\": {\"automargin\": true, \"gridcolor\": \"white\", \"linecolor\": \"white\", \"ticks\": \"\", \"title\": {\"standoff\": 15}, \"zerolinecolor\": \"white\", \"zerolinewidth\": 2}}}, \"xaxis\": {\"anchor\": \"y\", \"domain\": [0.0, 1.0], \"title\": {\"text\": \"x\"}}, \"yaxis\": {\"anchor\": \"x\", \"domain\": [0.0, 1.0]}},\n",
              "                        {\"responsive\": true}\n",
              "                    ).then(function(){\n",
              "                            \n",
              "var gd = document.getElementById('471da93e-d8eb-4903-b2ac-65665e20bab5');\n",
              "var x = new MutationObserver(function (mutations, observer) {{\n",
              "        var display = window.getComputedStyle(gd).display;\n",
              "        if (!display || display === 'none') {{\n",
              "            console.log([gd, 'removed!']);\n",
              "            Plotly.purge(gd);\n",
              "            observer.disconnect();\n",
              "        }}\n",
              "}});\n",
              "\n",
              "// Listen for the removal of the full notebook cells\n",
              "var notebookContainer = gd.closest('#notebook-container');\n",
              "if (notebookContainer) {{\n",
              "    x.observe(notebookContainer, {childList: true});\n",
              "}}\n",
              "\n",
              "// Listen for the clearing of the current output cell\n",
              "var outputEl = gd.closest('.output');\n",
              "if (outputEl) {{\n",
              "    x.observe(outputEl, {childList: true});\n",
              "}}\n",
              "\n",
              "                        })\n",
              "                };\n",
              "                \n",
              "            </script>\n",
              "        </div>\n",
              "</body>\n",
              "</html>"
            ]
          },
          "metadata": {}
        }
      ]
    },
    {
      "cell_type": "markdown",
      "metadata": {
        "id": "MAzmm2EEyztR"
      },
      "source": [
        "### Encode the target data\n",
        "When doing a classification using NNs we generally one-hot encode the target variable. One-hot encoding meaning that we convert the target label into a binary vector where the length of the vector is the same size as the number of categories and we encode a class by keeping all scalars in the vector 0 except for the class that we want to encode which is 1. In other words, only one of the 10 values in the array can be 1 while all others are 0 and the location of the 1 represents the number in the class. so 4 becomes [0,0,0,1,0,0,0,0,0,0]\n",
        "\n",
        "We sadly do not have time to go into detail on why this is and how you should go about this. SKlearn's LaberBinarizer below will do the trick for you. For those that are curious, you encode classes in an array because when you use a single number the neural network will assume that class 1 is closer to class 2 than to class 7. Think of it as classifying pictures of animals, the networks would think that class 1 (dog) is closer to class 2 (horse) than to class 8 (cat).\n",
        "\n"
      ]
    },
    {
      "cell_type": "code",
      "metadata": {
        "colab": {
          "base_uri": "https://localhost:8080/"
        },
        "id": "iWQZTl0Aoty6",
        "outputId": "bd3c37fe-caa9-49b6-cec5-3b327028f62c"
      },
      "source": [
        "# Convert labels to onehot encoding\n",
        "from sklearn.preprocessing import LabelBinarizer\n",
        "lb = LabelBinarizer()\n",
        "lb.fit(y_train)\n",
        "y_train = lb.transform(y_train)\n",
        "y_test = lb.transform(y_test)\n",
        "print(y_train[0])"
      ],
      "execution_count": null,
      "outputs": [
        {
          "output_type": "stream",
          "name": "stdout",
          "text": [
            "[0 1 0]\n"
          ]
        }
      ]
    },
    {
      "cell_type": "markdown",
      "metadata": {
        "id": "6KgwMxMYzaZ_"
      },
      "source": [
        "### Designing the Neural Network\n",
        "Designing an NN is a bit more complex than the algorithms used in challenge 1. As mentioned in the crash course an NN exists of multiple layers of which each can be of a different type.\n",
        "\n",
        "We can build up the NN using Keras' sequential model.\n",
        "\n",
        "The network blow uses standard Dense layers and ReLu activation functions. When you feel adventurous you can change these but for this exercise, we advise keeping those set. The first number in each layer defines the number of neurons in the layer and with that the limit of the amount of information that layer can pass to the next. The first layer is called the input layer, here you will need to define the shape of data it should be expecting. Based on this it can determine how many incoming connections each neuron will need. The Last Dense layer should compress the influx of data to the number of classes that exist, therefore the number of neurons should equal the number of classes. In the case of classification, the activation function should determine the choice your model is making. You can choose from several activation functions or even create your own, but when doing classification SoftMax is generally used.\n",
        " "
      ]
    },
    {
      "cell_type": "code",
      "metadata": {
        "id": "wVaqLcfbnRn4"
      },
      "source": [
        "from tensorflow import keras\n",
        "\n",
        "def define_model(input_shape, num_classes):\n",
        "    # Build the architecture\n",
        "    model = keras.Sequential(\n",
        "        [\n",
        "            keras.layers.Dense(1, activation=\"tanh\", input_shape=input_shape),\n",
        "            keras.layers.Dense(5, activation=\"tanh\"),\n",
        "            keras.layers.Dense(num_classes, activation=\"softmax\"),\n",
        "        ]\n",
        "    )\n",
        "\n",
        "    print(model.summary())\n",
        "    return model"
      ],
      "execution_count": null,
      "outputs": []
    },
    {
      "cell_type": "markdown",
      "metadata": {
        "id": "XoZA3DeF3EC9"
      },
      "source": [
        "### Training the network\n",
        "When training a model we need to define the number of epochs it will run for. Furthermore, we need an optimizer, you can use a classic SDG optimizer but here we chose Adam which is similar but has an adaptive learning rate, so you don't need to choose one. Finally, we select a loss function that determines how well the NN is performing. For classification generally Categorical Crossentropy is used. "
      ]
    },
    {
      "cell_type": "code",
      "metadata": {
        "colab": {
          "base_uri": "https://localhost:8080/"
        },
        "id": "EhhKfVzQn29Q",
        "outputId": "5a873c68-3680-42b6-d642-d5461dc486f4"
      },
      "source": [
        "num_epochs = 259\n",
        "input_shape = X_train.shape\n",
        "num_classes = y_train.shape[-1]\n",
        "\n",
        "model = define_model(input_shape, num_classes)\n",
        "model.compile(optimizer=keras.optimizers.Adam(learning_rate=0.02), loss='categorical_crossentropy', metrics=['accuracy'])\n",
        "\n",
        "history = model.fit(X_train, y_train, epochs=num_epochs)"
      ],
      "execution_count": null,
      "outputs": [
        {
          "output_type": "stream",
          "name": "stdout",
          "text": [
            "Model: \"sequential_17\"\n",
            "_________________________________________________________________\n",
            "Layer (type)                 Output Shape              Param #   \n",
            "=================================================================\n",
            "dense_51 (Dense)             (None, 100, 1)            5         \n",
            "_________________________________________________________________\n",
            "dense_52 (Dense)             (None, 100, 5)            10        \n",
            "_________________________________________________________________\n",
            "dense_53 (Dense)             (None, 100, 3)            18        \n",
            "=================================================================\n",
            "Total params: 33\n",
            "Trainable params: 33\n",
            "Non-trainable params: 0\n",
            "_________________________________________________________________\n",
            "None\n",
            "Epoch 1/259\n",
            "WARNING:tensorflow:Model was constructed with shape (None, 100, 4) for input KerasTensor(type_spec=TensorSpec(shape=(None, 100, 4), dtype=tf.float32, name='dense_51_input'), name='dense_51_input', description=\"created by layer 'dense_51_input'\"), but it was called on an input with incompatible shape (None, 4).\n",
            "WARNING:tensorflow:Model was constructed with shape (None, 100, 4) for input KerasTensor(type_spec=TensorSpec(shape=(None, 100, 4), dtype=tf.float32, name='dense_51_input'), name='dense_51_input', description=\"created by layer 'dense_51_input'\"), but it was called on an input with incompatible shape (None, 4).\n",
            "4/4 [==============================] - 0s 9ms/step - loss: 1.3466 - accuracy: 0.3500\n",
            "Epoch 2/259\n",
            "4/4 [==============================] - 0s 5ms/step - loss: 1.0345 - accuracy: 0.4700\n",
            "Epoch 3/259\n",
            "4/4 [==============================] - 0s 5ms/step - loss: 1.0421 - accuracy: 0.3700\n",
            "Epoch 4/259\n",
            "4/4 [==============================] - 0s 7ms/step - loss: 1.0125 - accuracy: 0.4700\n",
            "Epoch 5/259\n",
            "4/4 [==============================] - 0s 5ms/step - loss: 1.0148 - accuracy: 0.4600\n",
            "Epoch 6/259\n",
            "4/4 [==============================] - 0s 6ms/step - loss: 1.0029 - accuracy: 0.4800\n",
            "Epoch 7/259\n",
            "4/4 [==============================] - 0s 6ms/step - loss: 0.9570 - accuracy: 0.5000\n",
            "Epoch 8/259\n",
            "4/4 [==============================] - 0s 5ms/step - loss: 0.9008 - accuracy: 0.6400\n",
            "Epoch 9/259\n",
            "4/4 [==============================] - 0s 5ms/step - loss: 0.8386 - accuracy: 0.6300\n",
            "Epoch 10/259\n",
            "4/4 [==============================] - 0s 5ms/step - loss: 0.7721 - accuracy: 0.6700\n",
            "Epoch 11/259\n",
            "4/4 [==============================] - 0s 6ms/step - loss: 0.7420 - accuracy: 0.6400\n",
            "Epoch 12/259\n",
            "4/4 [==============================] - 0s 7ms/step - loss: 0.6569 - accuracy: 0.7100\n",
            "Epoch 13/259\n",
            "4/4 [==============================] - 0s 5ms/step - loss: 0.6093 - accuracy: 0.7200\n",
            "Epoch 14/259\n",
            "4/4 [==============================] - 0s 6ms/step - loss: 0.5755 - accuracy: 0.7200\n",
            "Epoch 15/259\n",
            "4/4 [==============================] - 0s 5ms/step - loss: 0.5237 - accuracy: 0.8000\n",
            "Epoch 16/259\n",
            "4/4 [==============================] - 0s 5ms/step - loss: 0.4973 - accuracy: 0.8100\n",
            "Epoch 17/259\n",
            "4/4 [==============================] - 0s 5ms/step - loss: 0.4779 - accuracy: 0.8000\n",
            "Epoch 18/259\n",
            "4/4 [==============================] - 0s 5ms/step - loss: 0.4622 - accuracy: 0.8000\n",
            "Epoch 19/259\n",
            "4/4 [==============================] - 0s 5ms/step - loss: 0.4516 - accuracy: 0.8000\n",
            "Epoch 20/259\n",
            "4/4 [==============================] - 0s 7ms/step - loss: 0.4427 - accuracy: 0.8000\n",
            "Epoch 21/259\n",
            "4/4 [==============================] - 0s 5ms/step - loss: 0.4186 - accuracy: 0.8400\n",
            "Epoch 22/259\n",
            "4/4 [==============================] - 0s 5ms/step - loss: 0.4088 - accuracy: 0.8800\n",
            "Epoch 23/259\n",
            "4/4 [==============================] - 0s 6ms/step - loss: 0.3854 - accuracy: 0.8500\n",
            "Epoch 24/259\n",
            "4/4 [==============================] - 0s 6ms/step - loss: 0.3828 - accuracy: 0.8300\n",
            "Epoch 25/259\n",
            "4/4 [==============================] - 0s 6ms/step - loss: 0.3630 - accuracy: 0.8300\n",
            "Epoch 26/259\n",
            "4/4 [==============================] - 0s 5ms/step - loss: 0.3474 - accuracy: 0.9000\n",
            "Epoch 27/259\n",
            "4/4 [==============================] - 0s 5ms/step - loss: 0.3349 - accuracy: 0.8700\n",
            "Epoch 28/259\n",
            "4/4 [==============================] - 0s 5ms/step - loss: 0.3248 - accuracy: 0.8400\n",
            "Epoch 29/259\n",
            "4/4 [==============================] - 0s 5ms/step - loss: 0.3107 - accuracy: 0.9100\n",
            "Epoch 30/259\n",
            "4/4 [==============================] - 0s 5ms/step - loss: 0.2893 - accuracy: 0.9300\n",
            "Epoch 31/259\n",
            "4/4 [==============================] - 0s 6ms/step - loss: 0.3228 - accuracy: 0.8500\n",
            "Epoch 32/259\n",
            "4/4 [==============================] - 0s 6ms/step - loss: 0.2950 - accuracy: 0.9000\n",
            "Epoch 33/259\n",
            "4/4 [==============================] - 0s 6ms/step - loss: 0.2787 - accuracy: 0.9000\n",
            "Epoch 34/259\n",
            "4/4 [==============================] - 0s 6ms/step - loss: 0.3324 - accuracy: 0.8500\n",
            "Epoch 35/259\n",
            "4/4 [==============================] - 0s 5ms/step - loss: 0.2733 - accuracy: 0.9300\n",
            "Epoch 36/259\n",
            "4/4 [==============================] - 0s 5ms/step - loss: 0.2558 - accuracy: 0.9300\n",
            "Epoch 37/259\n",
            "4/4 [==============================] - 0s 5ms/step - loss: 0.2703 - accuracy: 0.8700\n",
            "Epoch 38/259\n",
            "4/4 [==============================] - 0s 8ms/step - loss: 0.2780 - accuracy: 0.8600\n",
            "Epoch 39/259\n",
            "4/4 [==============================] - 0s 5ms/step - loss: 0.2521 - accuracy: 0.9100\n",
            "Epoch 40/259\n",
            "4/4 [==============================] - 0s 5ms/step - loss: 0.2186 - accuracy: 0.9500\n",
            "Epoch 41/259\n",
            "4/4 [==============================] - 0s 5ms/step - loss: 0.2530 - accuracy: 0.8900\n",
            "Epoch 42/259\n",
            "4/4 [==============================] - 0s 5ms/step - loss: 0.2203 - accuracy: 0.9400\n",
            "Epoch 43/259\n",
            "4/4 [==============================] - 0s 5ms/step - loss: 0.2345 - accuracy: 0.9200\n",
            "Epoch 44/259\n",
            "4/4 [==============================] - 0s 5ms/step - loss: 0.2251 - accuracy: 0.9200\n",
            "Epoch 45/259\n",
            "4/4 [==============================] - 0s 7ms/step - loss: 0.2038 - accuracy: 0.9400\n",
            "Epoch 46/259\n",
            "4/4 [==============================] - 0s 5ms/step - loss: 0.2301 - accuracy: 0.9000\n",
            "Epoch 47/259\n",
            "4/4 [==============================] - 0s 6ms/step - loss: 0.1961 - accuracy: 0.9400\n",
            "Epoch 48/259\n",
            "4/4 [==============================] - 0s 5ms/step - loss: 0.2059 - accuracy: 0.9100\n",
            "Epoch 49/259\n",
            "4/4 [==============================] - 0s 6ms/step - loss: 0.1902 - accuracy: 0.9200\n",
            "Epoch 50/259\n",
            "4/4 [==============================] - 0s 5ms/step - loss: 0.1829 - accuracy: 0.9600\n",
            "Epoch 51/259\n",
            "4/4 [==============================] - 0s 6ms/step - loss: 0.2082 - accuracy: 0.9400\n",
            "Epoch 52/259\n",
            "4/4 [==============================] - 0s 5ms/step - loss: 0.1797 - accuracy: 0.9500\n",
            "Epoch 53/259\n",
            "4/4 [==============================] - 0s 5ms/step - loss: 0.2097 - accuracy: 0.9100\n",
            "Epoch 54/259\n",
            "4/4 [==============================] - 0s 5ms/step - loss: 0.1803 - accuracy: 0.9300\n",
            "Epoch 55/259\n",
            "4/4 [==============================] - 0s 5ms/step - loss: 0.1918 - accuracy: 0.9500\n",
            "Epoch 56/259\n",
            "4/4 [==============================] - 0s 7ms/step - loss: 0.1741 - accuracy: 0.9500\n",
            "Epoch 57/259\n",
            "4/4 [==============================] - 0s 8ms/step - loss: 0.1809 - accuracy: 0.9200\n",
            "Epoch 58/259\n",
            "4/4 [==============================] - 0s 5ms/step - loss: 0.1796 - accuracy: 0.9200\n",
            "Epoch 59/259\n",
            "4/4 [==============================] - 0s 5ms/step - loss: 0.1629 - accuracy: 0.9500\n",
            "Epoch 60/259\n",
            "4/4 [==============================] - 0s 8ms/step - loss: 0.2242 - accuracy: 0.9000\n",
            "Epoch 61/259\n",
            "4/4 [==============================] - 0s 5ms/step - loss: 0.1747 - accuracy: 0.9500\n",
            "Epoch 62/259\n",
            "4/4 [==============================] - 0s 5ms/step - loss: 0.1686 - accuracy: 0.9200\n",
            "Epoch 63/259\n",
            "4/4 [==============================] - 0s 5ms/step - loss: 0.1688 - accuracy: 0.9200\n",
            "Epoch 64/259\n",
            "4/4 [==============================] - 0s 6ms/step - loss: 0.1606 - accuracy: 0.9600\n",
            "Epoch 65/259\n",
            "4/4 [==============================] - 0s 7ms/step - loss: 0.1532 - accuracy: 0.9600\n",
            "Epoch 66/259\n",
            "4/4 [==============================] - 0s 8ms/step - loss: 0.1617 - accuracy: 0.9300\n",
            "Epoch 67/259\n",
            "4/4 [==============================] - 0s 7ms/step - loss: 0.1625 - accuracy: 0.9200\n",
            "Epoch 68/259\n",
            "4/4 [==============================] - 0s 6ms/step - loss: 0.1527 - accuracy: 0.9600\n",
            "Epoch 69/259\n",
            "4/4 [==============================] - 0s 5ms/step - loss: 0.1557 - accuracy: 0.9500\n",
            "Epoch 70/259\n",
            "4/4 [==============================] - 0s 8ms/step - loss: 0.1852 - accuracy: 0.9100\n",
            "Epoch 71/259\n",
            "4/4 [==============================] - 0s 6ms/step - loss: 0.1764 - accuracy: 0.9400\n",
            "Epoch 72/259\n",
            "4/4 [==============================] - 0s 8ms/step - loss: 0.2300 - accuracy: 0.8900\n",
            "Epoch 73/259\n",
            "4/4 [==============================] - 0s 5ms/step - loss: 0.1555 - accuracy: 0.9300\n",
            "Epoch 74/259\n",
            "4/4 [==============================] - 0s 5ms/step - loss: 0.1832 - accuracy: 0.9300\n",
            "Epoch 75/259\n",
            "4/4 [==============================] - 0s 6ms/step - loss: 0.1794 - accuracy: 0.9400\n",
            "Epoch 76/259\n",
            "4/4 [==============================] - 0s 5ms/step - loss: 0.1657 - accuracy: 0.9500\n",
            "Epoch 77/259\n",
            "4/4 [==============================] - 0s 6ms/step - loss: 0.1493 - accuracy: 0.9400\n",
            "Epoch 78/259\n",
            "4/4 [==============================] - 0s 5ms/step - loss: 0.1480 - accuracy: 0.9300\n",
            "Epoch 79/259\n",
            "4/4 [==============================] - 0s 5ms/step - loss: 0.1345 - accuracy: 0.9500\n",
            "Epoch 80/259\n",
            "4/4 [==============================] - 0s 5ms/step - loss: 0.1341 - accuracy: 0.9600\n",
            "Epoch 81/259\n",
            "4/4 [==============================] - 0s 6ms/step - loss: 0.1299 - accuracy: 0.9600\n",
            "Epoch 82/259\n",
            "4/4 [==============================] - 0s 5ms/step - loss: 0.1259 - accuracy: 0.9500\n",
            "Epoch 83/259\n",
            "4/4 [==============================] - 0s 5ms/step - loss: 0.1289 - accuracy: 0.9500\n",
            "Epoch 84/259\n",
            "4/4 [==============================] - 0s 5ms/step - loss: 0.1271 - accuracy: 0.9500\n",
            "Epoch 85/259\n",
            "4/4 [==============================] - 0s 8ms/step - loss: 0.1362 - accuracy: 0.9300\n",
            "Epoch 86/259\n",
            "4/4 [==============================] - 0s 6ms/step - loss: 0.1328 - accuracy: 0.9400\n",
            "Epoch 87/259\n",
            "4/4 [==============================] - 0s 6ms/step - loss: 0.1346 - accuracy: 0.9600\n",
            "Epoch 88/259\n",
            "4/4 [==============================] - 0s 5ms/step - loss: 0.1191 - accuracy: 0.9600\n",
            "Epoch 89/259\n",
            "4/4 [==============================] - 0s 6ms/step - loss: 0.1426 - accuracy: 0.9200\n",
            "Epoch 90/259\n",
            "4/4 [==============================] - 0s 7ms/step - loss: 0.1182 - accuracy: 0.9600\n",
            "Epoch 91/259\n",
            "4/4 [==============================] - 0s 5ms/step - loss: 0.1368 - accuracy: 0.9600\n",
            "Epoch 92/259\n",
            "4/4 [==============================] - 0s 5ms/step - loss: 0.1174 - accuracy: 0.9500\n",
            "Epoch 93/259\n",
            "4/4 [==============================] - 0s 5ms/step - loss: 0.1224 - accuracy: 0.9600\n",
            "Epoch 94/259\n",
            "4/4 [==============================] - 0s 7ms/step - loss: 0.1182 - accuracy: 0.9600\n",
            "Epoch 95/259\n",
            "4/4 [==============================] - 0s 5ms/step - loss: 0.1211 - accuracy: 0.9500\n",
            "Epoch 96/259\n",
            "4/4 [==============================] - 0s 5ms/step - loss: 0.1189 - accuracy: 0.9600\n",
            "Epoch 97/259\n",
            "4/4 [==============================] - 0s 7ms/step - loss: 0.1164 - accuracy: 0.9600\n",
            "Epoch 98/259\n",
            "4/4 [==============================] - 0s 6ms/step - loss: 0.1141 - accuracy: 0.9600\n",
            "Epoch 99/259\n",
            "4/4 [==============================] - 0s 5ms/step - loss: 0.1139 - accuracy: 0.9500\n",
            "Epoch 100/259\n",
            "4/4 [==============================] - 0s 5ms/step - loss: 0.1161 - accuracy: 0.9600\n",
            "Epoch 101/259\n",
            "4/4 [==============================] - 0s 6ms/step - loss: 0.1102 - accuracy: 0.9500\n",
            "Epoch 102/259\n",
            "4/4 [==============================] - 0s 5ms/step - loss: 0.1069 - accuracy: 0.9600\n",
            "Epoch 103/259\n",
            "4/4 [==============================] - 0s 6ms/step - loss: 0.1274 - accuracy: 0.9600\n",
            "Epoch 104/259\n",
            "4/4 [==============================] - 0s 5ms/step - loss: 0.1129 - accuracy: 0.9600\n",
            "Epoch 105/259\n",
            "4/4 [==============================] - 0s 5ms/step - loss: 0.1326 - accuracy: 0.9200\n",
            "Epoch 106/259\n",
            "4/4 [==============================] - 0s 6ms/step - loss: 0.1075 - accuracy: 0.9600\n",
            "Epoch 107/259\n",
            "4/4 [==============================] - 0s 7ms/step - loss: 0.1264 - accuracy: 0.9600\n",
            "Epoch 108/259\n",
            "4/4 [==============================] - 0s 6ms/step - loss: 0.1096 - accuracy: 0.9700\n",
            "Epoch 109/259\n",
            "4/4 [==============================] - 0s 5ms/step - loss: 0.1236 - accuracy: 0.9200\n",
            "Epoch 110/259\n",
            "4/4 [==============================] - 0s 6ms/step - loss: 0.1049 - accuracy: 0.9700\n",
            "Epoch 111/259\n",
            "4/4 [==============================] - 0s 6ms/step - loss: 0.1076 - accuracy: 0.9600\n",
            "Epoch 112/259\n",
            "4/4 [==============================] - 0s 5ms/step - loss: 0.1035 - accuracy: 0.9700\n",
            "Epoch 113/259\n",
            "4/4 [==============================] - 0s 7ms/step - loss: 0.1272 - accuracy: 0.9600\n",
            "Epoch 114/259\n",
            "4/4 [==============================] - 0s 6ms/step - loss: 0.1051 - accuracy: 0.9700\n",
            "Epoch 115/259\n",
            "4/4 [==============================] - 0s 6ms/step - loss: 0.1705 - accuracy: 0.9200\n",
            "Epoch 116/259\n",
            "4/4 [==============================] - 0s 6ms/step - loss: 0.2044 - accuracy: 0.9100\n",
            "Epoch 117/259\n",
            "4/4 [==============================] - 0s 5ms/step - loss: 0.1193 - accuracy: 0.9600\n",
            "Epoch 118/259\n",
            "4/4 [==============================] - 0s 5ms/step - loss: 0.1437 - accuracy: 0.9500\n",
            "Epoch 119/259\n",
            "4/4 [==============================] - 0s 5ms/step - loss: 0.2353 - accuracy: 0.9000\n",
            "Epoch 120/259\n",
            "4/4 [==============================] - 0s 6ms/step - loss: 0.1282 - accuracy: 0.9500\n",
            "Epoch 121/259\n",
            "4/4 [==============================] - 0s 5ms/step - loss: 0.2353 - accuracy: 0.8900\n",
            "Epoch 122/259\n",
            "4/4 [==============================] - 0s 7ms/step - loss: 0.1073 - accuracy: 0.9600\n",
            "Epoch 123/259\n",
            "4/4 [==============================] - 0s 6ms/step - loss: 0.1884 - accuracy: 0.9300\n",
            "Epoch 124/259\n",
            "4/4 [==============================] - 0s 7ms/step - loss: 0.1014 - accuracy: 0.9500\n",
            "Epoch 125/259\n",
            "4/4 [==============================] - 0s 5ms/step - loss: 0.3371 - accuracy: 0.8700\n",
            "Epoch 126/259\n",
            "4/4 [==============================] - 0s 7ms/step - loss: 0.0823 - accuracy: 0.9700\n",
            "Epoch 127/259\n",
            "4/4 [==============================] - 0s 9ms/step - loss: 0.1850 - accuracy: 0.9300\n",
            "Epoch 128/259\n",
            "4/4 [==============================] - 0s 6ms/step - loss: 0.1049 - accuracy: 0.9600\n",
            "Epoch 129/259\n",
            "4/4 [==============================] - 0s 6ms/step - loss: 0.2243 - accuracy: 0.9300\n",
            "Epoch 130/259\n",
            "4/4 [==============================] - 0s 7ms/step - loss: 0.1470 - accuracy: 0.9400\n",
            "Epoch 131/259\n",
            "4/4 [==============================] - 0s 8ms/step - loss: 0.3966 - accuracy: 0.8000\n",
            "Epoch 132/259\n",
            "4/4 [==============================] - 0s 6ms/step - loss: 0.2054 - accuracy: 0.9300\n",
            "Epoch 133/259\n",
            "4/4 [==============================] - 0s 5ms/step - loss: 0.1727 - accuracy: 0.9600\n",
            "Epoch 134/259\n",
            "4/4 [==============================] - 0s 5ms/step - loss: 0.1688 - accuracy: 0.9600\n",
            "Epoch 135/259\n",
            "4/4 [==============================] - 0s 5ms/step - loss: 0.1348 - accuracy: 0.9500\n",
            "Epoch 136/259\n",
            "4/4 [==============================] - 0s 8ms/step - loss: 0.1465 - accuracy: 0.9400\n",
            "Epoch 137/259\n",
            "4/4 [==============================] - 0s 6ms/step - loss: 0.1127 - accuracy: 0.9600\n",
            "Epoch 138/259\n",
            "4/4 [==============================] - 0s 5ms/step - loss: 0.1067 - accuracy: 0.9500\n",
            "Epoch 139/259\n",
            "4/4 [==============================] - 0s 5ms/step - loss: 0.1086 - accuracy: 0.9500\n",
            "Epoch 140/259\n",
            "4/4 [==============================] - 0s 7ms/step - loss: 0.0982 - accuracy: 0.9600\n",
            "Epoch 141/259\n",
            "4/4 [==============================] - 0s 5ms/step - loss: 0.1008 - accuracy: 0.9600\n",
            "Epoch 142/259\n",
            "4/4 [==============================] - 0s 7ms/step - loss: 0.0966 - accuracy: 0.9600\n",
            "Epoch 143/259\n",
            "4/4 [==============================] - 0s 7ms/step - loss: 0.0932 - accuracy: 0.9700\n",
            "Epoch 144/259\n",
            "4/4 [==============================] - 0s 6ms/step - loss: 0.0964 - accuracy: 0.9700\n",
            "Epoch 145/259\n",
            "4/4 [==============================] - 0s 6ms/step - loss: 0.0923 - accuracy: 0.9700\n",
            "Epoch 146/259\n",
            "4/4 [==============================] - 0s 5ms/step - loss: 0.0949 - accuracy: 0.9700\n",
            "Epoch 147/259\n",
            "4/4 [==============================] - 0s 7ms/step - loss: 0.0898 - accuracy: 0.9700\n",
            "Epoch 148/259\n",
            "4/4 [==============================] - 0s 6ms/step - loss: 0.0935 - accuracy: 0.9700\n",
            "Epoch 149/259\n",
            "4/4 [==============================] - 0s 6ms/step - loss: 0.0906 - accuracy: 0.9700\n",
            "Epoch 150/259\n",
            "4/4 [==============================] - 0s 7ms/step - loss: 0.0962 - accuracy: 0.9700\n",
            "Epoch 151/259\n",
            "4/4 [==============================] - 0s 5ms/step - loss: 0.1000 - accuracy: 0.9700\n",
            "Epoch 152/259\n",
            "4/4 [==============================] - 0s 5ms/step - loss: 0.0902 - accuracy: 0.9700\n",
            "Epoch 153/259\n",
            "4/4 [==============================] - 0s 8ms/step - loss: 0.0938 - accuracy: 0.9700\n",
            "Epoch 154/259\n",
            "4/4 [==============================] - 0s 5ms/step - loss: 0.0872 - accuracy: 0.9700\n",
            "Epoch 155/259\n",
            "4/4 [==============================] - 0s 6ms/step - loss: 0.0939 - accuracy: 0.9700\n",
            "Epoch 156/259\n",
            "4/4 [==============================] - 0s 6ms/step - loss: 0.0882 - accuracy: 0.9700\n",
            "Epoch 157/259\n",
            "4/4 [==============================] - 0s 6ms/step - loss: 0.0980 - accuracy: 0.9500\n",
            "Epoch 158/259\n",
            "4/4 [==============================] - 0s 7ms/step - loss: 0.0932 - accuracy: 0.9500\n",
            "Epoch 159/259\n",
            "4/4 [==============================] - 0s 6ms/step - loss: 0.1220 - accuracy: 0.9500\n",
            "Epoch 160/259\n",
            "4/4 [==============================] - 0s 5ms/step - loss: 0.1827 - accuracy: 0.9300\n",
            "Epoch 161/259\n",
            "4/4 [==============================] - 0s 5ms/step - loss: 0.0922 - accuracy: 0.9700\n",
            "Epoch 162/259\n",
            "4/4 [==============================] - 0s 6ms/step - loss: 0.2054 - accuracy: 0.9200\n",
            "Epoch 163/259\n",
            "4/4 [==============================] - 0s 5ms/step - loss: 0.1041 - accuracy: 0.9600\n",
            "Epoch 164/259\n",
            "4/4 [==============================] - 0s 6ms/step - loss: 0.0950 - accuracy: 0.9700\n",
            "Epoch 165/259\n",
            "4/4 [==============================] - 0s 7ms/step - loss: 0.1463 - accuracy: 0.9400\n",
            "Epoch 166/259\n",
            "4/4 [==============================] - 0s 5ms/step - loss: 0.1156 - accuracy: 0.9400\n",
            "Epoch 167/259\n",
            "4/4 [==============================] - 0s 8ms/step - loss: 0.1256 - accuracy: 0.9400\n",
            "Epoch 168/259\n",
            "4/4 [==============================] - 0s 7ms/step - loss: 0.0868 - accuracy: 0.9700\n",
            "Epoch 169/259\n",
            "4/4 [==============================] - 0s 6ms/step - loss: 0.1129 - accuracy: 0.9400\n",
            "Epoch 170/259\n",
            "4/4 [==============================] - 0s 5ms/step - loss: 0.1105 - accuracy: 0.9500\n",
            "Epoch 171/259\n",
            "4/4 [==============================] - 0s 7ms/step - loss: 0.0984 - accuracy: 0.9700\n",
            "Epoch 172/259\n",
            "4/4 [==============================] - 0s 5ms/step - loss: 0.0945 - accuracy: 0.9700\n",
            "Epoch 173/259\n",
            "4/4 [==============================] - 0s 6ms/step - loss: 0.0809 - accuracy: 0.9800\n",
            "Epoch 174/259\n",
            "4/4 [==============================] - 0s 6ms/step - loss: 0.0868 - accuracy: 0.9600\n",
            "Epoch 175/259\n",
            "4/4 [==============================] - 0s 6ms/step - loss: 0.0806 - accuracy: 0.9800\n",
            "Epoch 176/259\n",
            "4/4 [==============================] - 0s 5ms/step - loss: 0.0860 - accuracy: 0.9700\n",
            "Epoch 177/259\n",
            "4/4 [==============================] - 0s 5ms/step - loss: 0.0801 - accuracy: 0.9800\n",
            "Epoch 178/259\n",
            "4/4 [==============================] - 0s 5ms/step - loss: 0.0820 - accuracy: 0.9700\n",
            "Epoch 179/259\n",
            "4/4 [==============================] - 0s 5ms/step - loss: 0.0976 - accuracy: 0.9600\n",
            "Epoch 180/259\n",
            "4/4 [==============================] - 0s 5ms/step - loss: 0.0957 - accuracy: 0.9700\n",
            "Epoch 181/259\n",
            "4/4 [==============================] - 0s 5ms/step - loss: 0.0923 - accuracy: 0.9400\n",
            "Epoch 182/259\n",
            "4/4 [==============================] - 0s 5ms/step - loss: 0.0768 - accuracy: 0.9700\n",
            "Epoch 183/259\n",
            "4/4 [==============================] - 0s 6ms/step - loss: 0.1184 - accuracy: 0.9500\n",
            "Epoch 184/259\n",
            "4/4 [==============================] - 0s 4ms/step - loss: 0.1586 - accuracy: 0.9400\n",
            "Epoch 185/259\n",
            "4/4 [==============================] - 0s 7ms/step - loss: 0.0829 - accuracy: 0.9600\n",
            "Epoch 186/259\n",
            "4/4 [==============================] - 0s 6ms/step - loss: 0.2271 - accuracy: 0.9000\n",
            "Epoch 187/259\n",
            "4/4 [==============================] - 0s 5ms/step - loss: 0.0769 - accuracy: 0.9800\n",
            "Epoch 188/259\n",
            "4/4 [==============================] - 0s 5ms/step - loss: 0.1376 - accuracy: 0.9400\n",
            "Epoch 189/259\n",
            "4/4 [==============================] - 0s 6ms/step - loss: 0.1087 - accuracy: 0.9600\n",
            "Epoch 190/259\n",
            "4/4 [==============================] - 0s 6ms/step - loss: 0.0767 - accuracy: 0.9700\n",
            "Epoch 191/259\n",
            "4/4 [==============================] - 0s 6ms/step - loss: 0.0910 - accuracy: 0.9600\n",
            "Epoch 192/259\n",
            "4/4 [==============================] - 0s 6ms/step - loss: 0.0808 - accuracy: 0.9800\n",
            "Epoch 193/259\n",
            "4/4 [==============================] - 0s 5ms/step - loss: 0.0813 - accuracy: 0.9800\n",
            "Epoch 194/259\n",
            "4/4 [==============================] - 0s 6ms/step - loss: 0.0777 - accuracy: 0.9800\n",
            "Epoch 195/259\n",
            "4/4 [==============================] - 0s 6ms/step - loss: 0.0877 - accuracy: 0.9600\n",
            "Epoch 196/259\n",
            "4/4 [==============================] - 0s 6ms/step - loss: 0.0813 - accuracy: 0.9800\n",
            "Epoch 197/259\n",
            "4/4 [==============================] - 0s 7ms/step - loss: 0.0741 - accuracy: 0.9800\n",
            "Epoch 198/259\n",
            "4/4 [==============================] - 0s 6ms/step - loss: 0.0840 - accuracy: 0.9600\n",
            "Epoch 199/259\n",
            "4/4 [==============================] - 0s 6ms/step - loss: 0.0767 - accuracy: 0.9700\n",
            "Epoch 200/259\n",
            "4/4 [==============================] - 0s 7ms/step - loss: 0.0732 - accuracy: 0.9800\n",
            "Epoch 201/259\n",
            "4/4 [==============================] - 0s 5ms/step - loss: 0.0885 - accuracy: 0.9500\n",
            "Epoch 202/259\n",
            "4/4 [==============================] - 0s 5ms/step - loss: 0.0781 - accuracy: 0.9700\n",
            "Epoch 203/259\n",
            "4/4 [==============================] - 0s 7ms/step - loss: 0.0809 - accuracy: 0.9700\n",
            "Epoch 204/259\n",
            "4/4 [==============================] - 0s 8ms/step - loss: 0.0708 - accuracy: 0.9800\n",
            "Epoch 205/259\n",
            "4/4 [==============================] - 0s 5ms/step - loss: 0.1123 - accuracy: 0.9500\n",
            "Epoch 206/259\n",
            "4/4 [==============================] - 0s 5ms/step - loss: 0.0778 - accuracy: 0.9700\n",
            "Epoch 207/259\n",
            "4/4 [==============================] - 0s 6ms/step - loss: 0.1048 - accuracy: 0.9600\n",
            "Epoch 208/259\n",
            "4/4 [==============================] - 0s 5ms/step - loss: 0.0957 - accuracy: 0.9500\n",
            "Epoch 209/259\n",
            "4/4 [==============================] - 0s 5ms/step - loss: 0.1153 - accuracy: 0.9500\n",
            "Epoch 210/259\n",
            "4/4 [==============================] - 0s 6ms/step - loss: 0.1157 - accuracy: 0.9600\n",
            "Epoch 211/259\n",
            "4/4 [==============================] - 0s 6ms/step - loss: 0.1960 - accuracy: 0.9300\n",
            "Epoch 212/259\n",
            "4/4 [==============================] - 0s 6ms/step - loss: 0.1169 - accuracy: 0.9400\n",
            "Epoch 213/259\n",
            "4/4 [==============================] - 0s 6ms/step - loss: 0.0756 - accuracy: 0.9800\n",
            "Epoch 214/259\n",
            "4/4 [==============================] - 0s 7ms/step - loss: 0.1022 - accuracy: 0.9500\n",
            "Epoch 215/259\n",
            "4/4 [==============================] - 0s 5ms/step - loss: 0.0733 - accuracy: 0.9800\n",
            "Epoch 216/259\n",
            "4/4 [==============================] - 0s 6ms/step - loss: 0.1058 - accuracy: 0.9600\n",
            "Epoch 217/259\n",
            "4/4 [==============================] - 0s 6ms/step - loss: 0.0845 - accuracy: 0.9800\n",
            "Epoch 218/259\n",
            "4/4 [==============================] - 0s 7ms/step - loss: 0.0716 - accuracy: 0.9800\n",
            "Epoch 219/259\n",
            "4/4 [==============================] - 0s 5ms/step - loss: 0.0750 - accuracy: 0.9600\n",
            "Epoch 220/259\n",
            "4/4 [==============================] - 0s 5ms/step - loss: 0.0697 - accuracy: 0.9800\n",
            "Epoch 221/259\n",
            "4/4 [==============================] - 0s 6ms/step - loss: 0.0684 - accuracy: 0.9800\n",
            "Epoch 222/259\n",
            "4/4 [==============================] - 0s 8ms/step - loss: 0.1266 - accuracy: 0.9400\n",
            "Epoch 223/259\n",
            "4/4 [==============================] - 0s 6ms/step - loss: 0.1008 - accuracy: 0.9500\n",
            "Epoch 224/259\n",
            "4/4 [==============================] - 0s 7ms/step - loss: 0.0963 - accuracy: 0.9600\n",
            "Epoch 225/259\n",
            "4/4 [==============================] - 0s 6ms/step - loss: 0.0799 - accuracy: 0.9700\n",
            "Epoch 226/259\n",
            "4/4 [==============================] - 0s 8ms/step - loss: 0.0736 - accuracy: 0.9800\n",
            "Epoch 227/259\n",
            "4/4 [==============================] - 0s 6ms/step - loss: 0.0718 - accuracy: 0.9800\n",
            "Epoch 228/259\n",
            "4/4 [==============================] - 0s 6ms/step - loss: 0.0690 - accuracy: 0.9800\n",
            "Epoch 229/259\n",
            "4/4 [==============================] - 0s 5ms/step - loss: 0.0709 - accuracy: 0.9700\n",
            "Epoch 230/259\n",
            "4/4 [==============================] - 0s 7ms/step - loss: 0.0671 - accuracy: 0.9800\n",
            "Epoch 231/259\n",
            "4/4 [==============================] - 0s 5ms/step - loss: 0.0668 - accuracy: 0.9800\n",
            "Epoch 232/259\n",
            "4/4 [==============================] - 0s 6ms/step - loss: 0.0661 - accuracy: 0.9800\n",
            "Epoch 233/259\n",
            "4/4 [==============================] - 0s 5ms/step - loss: 0.0661 - accuracy: 0.9800\n",
            "Epoch 234/259\n",
            "4/4 [==============================] - 0s 8ms/step - loss: 0.0654 - accuracy: 0.9800\n",
            "Epoch 235/259\n",
            "4/4 [==============================] - 0s 8ms/step - loss: 0.0672 - accuracy: 0.9800\n",
            "Epoch 236/259\n",
            "4/4 [==============================] - 0s 5ms/step - loss: 0.0785 - accuracy: 0.9600\n",
            "Epoch 237/259\n",
            "4/4 [==============================] - 0s 6ms/step - loss: 0.0972 - accuracy: 0.9600\n",
            "Epoch 238/259\n",
            "4/4 [==============================] - 0s 5ms/step - loss: 0.0770 - accuracy: 0.9700\n",
            "Epoch 239/259\n",
            "4/4 [==============================] - 0s 4ms/step - loss: 0.1117 - accuracy: 0.9600\n",
            "Epoch 240/259\n",
            "4/4 [==============================] - 0s 9ms/step - loss: 0.0680 - accuracy: 0.9800\n",
            "Epoch 241/259\n",
            "4/4 [==============================] - 0s 8ms/step - loss: 0.0784 - accuracy: 0.9600\n",
            "Epoch 242/259\n",
            "4/4 [==============================] - 0s 8ms/step - loss: 0.0685 - accuracy: 0.9800\n",
            "Epoch 243/259\n",
            "4/4 [==============================] - 0s 5ms/step - loss: 0.0804 - accuracy: 0.9700\n",
            "Epoch 244/259\n",
            "4/4 [==============================] - 0s 6ms/step - loss: 0.0789 - accuracy: 0.9700\n",
            "Epoch 245/259\n",
            "4/4 [==============================] - 0s 5ms/step - loss: 0.1344 - accuracy: 0.9400\n",
            "Epoch 246/259\n",
            "4/4 [==============================] - 0s 5ms/step - loss: 0.1293 - accuracy: 0.9400\n",
            "Epoch 247/259\n",
            "4/4 [==============================] - 0s 5ms/step - loss: 0.1185 - accuracy: 0.9400\n",
            "Epoch 248/259\n",
            "4/4 [==============================] - 0s 6ms/step - loss: 0.1102 - accuracy: 0.9500\n",
            "Epoch 249/259\n",
            "4/4 [==============================] - 0s 5ms/step - loss: 0.0711 - accuracy: 0.9800\n",
            "Epoch 250/259\n",
            "4/4 [==============================] - 0s 7ms/step - loss: 0.0870 - accuracy: 0.9500\n",
            "Epoch 251/259\n",
            "4/4 [==============================] - 0s 6ms/step - loss: 0.0667 - accuracy: 0.9800\n",
            "Epoch 252/259\n",
            "4/4 [==============================] - 0s 8ms/step - loss: 0.0914 - accuracy: 0.9600\n",
            "Epoch 253/259\n",
            "4/4 [==============================] - 0s 6ms/step - loss: 0.0839 - accuracy: 0.9700\n",
            "Epoch 254/259\n",
            "4/4 [==============================] - 0s 5ms/step - loss: 0.0666 - accuracy: 0.9900\n",
            "Epoch 255/259\n",
            "4/4 [==============================] - 0s 6ms/step - loss: 0.0821 - accuracy: 0.9500\n",
            "Epoch 256/259\n",
            "4/4 [==============================] - 0s 6ms/step - loss: 0.0633 - accuracy: 0.9800\n",
            "Epoch 257/259\n",
            "4/4 [==============================] - 0s 5ms/step - loss: 0.0733 - accuracy: 0.9800\n",
            "Epoch 258/259\n",
            "4/4 [==============================] - 0s 7ms/step - loss: 0.0633 - accuracy: 0.9800\n",
            "Epoch 259/259\n",
            "4/4 [==============================] - 0s 7ms/step - loss: 0.0728 - accuracy: 0.9600\n"
          ]
        }
      ]
    },
    {
      "cell_type": "markdown",
      "metadata": {
        "id": "Y2ROP0mI4njl"
      },
      "source": [
        "### Metric Scores\n",
        "Finally, we need to determine if our NN has actually learned something by testing it on data it has never seen before, the test set. Below we calculate the loss (categorical cross-entropy) which is a bit hard to interpret. But also the accuracy which can be used in case of classification and is very easy to interpret since it is basically the percentage of cases in the test set it predicted correctly."
      ]
    },
    {
      "cell_type": "code",
      "metadata": {
        "colab": {
          "base_uri": "https://localhost:8080/"
        },
        "id": "UKt-0TZbn3B8",
        "outputId": "d261744f-cb48-407f-86d8-540df5bd47ca"
      },
      "source": [
        "score = model.evaluate(X_test, y_test, verbose=0)\n",
        "print(\"Test loss:\", score[0])\n",
        "print(\"Test accuracy:\", score[1])"
      ],
      "execution_count": null,
      "outputs": [
        {
          "output_type": "stream",
          "name": "stdout",
          "text": [
            "WARNING:tensorflow:Model was constructed with shape (None, 100, 4) for input KerasTensor(type_spec=TensorSpec(shape=(None, 100, 4), dtype=tf.float32, name='dense_51_input'), name='dense_51_input', description=\"created by layer 'dense_51_input'\"), but it was called on an input with incompatible shape (None, 4).\n",
            "Test loss: 0.05151647701859474\n",
            "Test accuracy: 0.9800000190734863\n"
          ]
        }
      ]
    },
    {
      "cell_type": "markdown",
      "metadata": {
        "id": "qwmpWTjG5gog"
      },
      "source": [
        "## **Challenge 2:** Tune the MLP\n",
        "Tune the parameters until you get a test accuracy of 98%. We advise starting with changing the number of layers and the number of neurons in each layer and proceed with changing the number of epochs. You are free to change anything else from the optimizer to the layer types but make sure to save enough time for the next challenge. "
      ]
    },
    {
      "cell_type": "markdown",
      "metadata": {
        "id": "u86En6iir7zI"
      },
      "source": [
        "## Convolutional Neural Networks\n",
        "This challenge is going to be a bit more, well... challenging. You are going to process image data and in the end-use Convolutional Neural Networks to process image data. These types of algorithms are designed to use multidimensional data where the spatial relations between the dimensions are relevant or in other words, good with pretty pictures.\n",
        "\n",
        "Today we are going to use the MNIST dataset, probably the most famous dataset in all of AI. It consists of 28x28 pixel pictures of handwritten numbers in black and white images.\n",
        "\n",
        "We are going to use some real Deep Learning here that benefits from GPU acceleration. Luckily Colab can provide us with a free GPU to train the neural networks faster. You can activate GPU acceleration in the Runtime tab: Runtime -> Change runtime type -> Select GPU from the dropdown\n",
        "\n"
      ]
    },
    {
      "cell_type": "markdown",
      "metadata": {
        "id": "JkKR-08csFI1"
      },
      "source": [
        "## Load the data"
      ]
    },
    {
      "cell_type": "code",
      "metadata": {
        "id": "wEEexzS4YLqh"
      },
      "source": [
        "import numpy as np\n",
        "import matplotlib.pyplot as plt"
      ],
      "execution_count": null,
      "outputs": []
    },
    {
      "cell_type": "code",
      "metadata": {
        "id": "aNaXlRm_gl76",
        "colab": {
          "base_uri": "https://localhost:8080/"
        },
        "outputId": "26b7b8ad-4d3a-44ef-f44d-96a9610303ce"
      },
      "source": [
        "# Download the dataset\n",
        "from keras.datasets import mnist, fashion_mnist\n",
        "(X_train, y_train), (X_test, y_test) = fashion_mnist.load_data()\n",
        "# (X_train, y_train), (X_test, y_test) = fashion_mnist.load_data()\n",
        "print(X_train.shape)\n",
        "print(X_test.shape)"
      ],
      "execution_count": null,
      "outputs": [
        {
          "output_type": "stream",
          "name": "stdout",
          "text": [
            "Downloading data from https://storage.googleapis.com/tensorflow/tf-keras-datasets/train-labels-idx1-ubyte.gz\n",
            "32768/29515 [=================================] - 0s 0us/step\n",
            "40960/29515 [=========================================] - 0s 0us/step\n",
            "Downloading data from https://storage.googleapis.com/tensorflow/tf-keras-datasets/train-images-idx3-ubyte.gz\n",
            "26427392/26421880 [==============================] - 0s 0us/step\n",
            "26435584/26421880 [==============================] - 0s 0us/step\n",
            "Downloading data from https://storage.googleapis.com/tensorflow/tf-keras-datasets/t10k-labels-idx1-ubyte.gz\n",
            "16384/5148 [===============================================================================================] - 0s 0us/step\n",
            "Downloading data from https://storage.googleapis.com/tensorflow/tf-keras-datasets/t10k-images-idx3-ubyte.gz\n",
            "4423680/4422102 [==============================] - 0s 0us/step\n",
            "4431872/4422102 [==============================] - 0s 0us/step\n",
            "(60000, 28, 28)\n",
            "(10000, 28, 28)\n"
          ]
        }
      ]
    },
    {
      "cell_type": "code",
      "metadata": {
        "colab": {
          "base_uri": "https://localhost:8080/",
          "height": 282
        },
        "id": "A2iXRbCPgnrD",
        "outputId": "5fc0ae81-eef8-48af-9abd-e7cda98155de"
      },
      "source": [
        "# View example digit\n",
        "index = np.random.randint(0,60000)\n",
        "plt.imshow(X_train[index])\n",
        "print(y_train[index])"
      ],
      "execution_count": null,
      "outputs": [
        {
          "output_type": "stream",
          "name": "stdout",
          "text": [
            "0\n"
          ]
        },
        {
          "output_type": "display_data",
          "data": {
            "image/png": "[encoded data removed]",
            "text/plain": [
              "<Figure size 432x288 with 1 Axes>"
            ]
          },
          "metadata": {
            "needs_background": "light"
          }
        }
      ]
    },
    {
      "cell_type": "code",
      "metadata": {
        "id": "P3-9JrJqzC3a"
      },
      "source": [
        ""
      ],
      "execution_count": null,
      "outputs": []
    },
    {
      "cell_type": "markdown",
      "metadata": {
        "id": "6TMVvSDJzNIc"
      },
      "source": [
        "### Reshaping the data\n",
        "CNNs expect the data to be in a specific shape depending on the number of dimensions. Since we work with image data, we will use 2D CNN layers. The expected shape that would be as follows (number_of_samples, dimention_size_1, dimentionon_size_2, channel). Looking at the X_train. The shape above the first 3 is easy to derive. The number of training samples is 60000 and the images are 28*28 and therefore those would be the two dimension sizes. Channel would basically be the number of spectral wavelengths are in the data. For colored images this would be 3 (r,g,b) for black and white images this would just be 1, and for multispectral satellite images, this could be many more. In this case, we have black and white images, so we end up with the desired X_train shape of (60000,28,28,1). This is not the shape of our data as can be seen above, that would be (60000,28,28). This is because it has the intensity value in the second dimension instead of it being just a coordinate and an extra dimension for the intensity. Luckily we can easily reshape the data to our desired format."
      ]
    },
    {
      "cell_type": "code",
      "metadata": {
        "id": "UveRpDvhf9uj"
      },
      "source": [
        "# Put it into suitable shape\n",
        "X_train = X_train.reshape(60000,28,28,1)\n",
        "X_test = X_test.reshape(10000,28,28,1)"
      ],
      "execution_count": null,
      "outputs": []
    },
    {
      "cell_type": "code",
      "metadata": {
        "colab": {
          "base_uri": "https://localhost:8080/"
        },
        "id": "FuK2gEM_wzPN",
        "outputId": "6bd79d54-3f65-4699-afa4-fdcd491d6bc2"
      },
      "source": [
        "# Convert labels to onehot (just like in previous example)\n",
        "from sklearn.preprocessing import LabelBinarizer\n",
        "lb = LabelBinarizer()\n",
        "lb.fit(y_train)\n",
        "y_train = lb.transform(y_train)\n",
        "y_test = lb.transform(y_test)\n",
        "print(y_train[0])"
      ],
      "execution_count": null,
      "outputs": [
        {
          "output_type": "stream",
          "name": "stdout",
          "text": [
            "[0 0 0 0 0 0 0 0 0 1]\n"
          ]
        }
      ]
    },
    {
      "cell_type": "markdown",
      "metadata": {
        "id": "GRGtw9743JZ_"
      },
      "source": [
        "### Architecture\n",
        "Now for the architecture\n",
        "\n",
        "- This time we defined the input in a separate Input Layer, which results in exactly the same as when you define input_shape in the first layer.\n",
        "- Then we do a single Convolutional layer\n",
        "- The last layer should stay a Dense layer with the number of classes for neurons just like with the previous. However, we can not just push 2D data into a 1D Dense layer therefore we need to Flatten the data first using a Flatten layer.\n",
        "\n",
        "\n",
        "Configuring the Conv2D layers will require some fiddling, here is the documentation:\n",
        "https://keras.io/api/layers/convolution_layers/convolution2d/\n",
        "<br><br>\n",
        "You should at least define a **filter size**, to keep it simple this number determines the amount of information that will be collected per output \"pixel\" in the output. So a higher number means more space for information but also longer compute times and larger model size. \n",
        "<br><br>\n",
        "Then you should also define a **kernel size** (also known as window) Which basically determines how much information is condensed into an output \"pixel\". This means that larger kernels result in a larger segment of the image will be cramped into a smaller resulting image. So here larger means less information pushed to the next layer. \n",
        "\n",
        "**Warning:** When adding Conv layers and changing kernel sizes you impact the shape of de \"image\" that is passed to the next layers, often making it smaller. This means that when you stack too many layers and/or use large kernel sizes, the image at some point will become smaller than 0x0 resulting in a crash. You can simply calculate the effect each propagating layer will have on the image but you can also pay extra attention to the model summary since that will show the resulting image dimensions after each layer.\n",
        " \n"
      ]
    },
    {
      "cell_type": "code",
      "metadata": {
        "id": "nTAKVGm6yqD2"
      },
      "source": [
        "from tensorflow import keras\n",
        "from tensorflow.keras.layers import (Input, Conv2D, MaxPooling2D, Flatten, \n",
        "                                     Dense, Dropout, BatchNormalization)"
      ],
      "execution_count": null,
      "outputs": []
    },
    {
      "cell_type": "code",
      "metadata": {
        "id": "n7hnzeQAf9uj"
      },
      "source": [
        "def define_cnn(input_shape, num_classes):\n",
        "    # Build the architecture\n",
        "    model = keras.Sequential(\n",
        "        [\n",
        "            Input(shape=input_shape),\n",
        "         \n",
        "            Conv2D(filters=32, kernel_size=(3, 3), activation=\"relu\"),\n",
        "            BatchNormalization(),\n",
        "            Dropout(0.4),\n",
        "         \n",
        "            Conv2D(filters=32, kernel_size=(3, 3), activation=\"relu\"),\n",
        "            BatchNormalization(),\n",
        "            Dropout(0.4),\n",
        "         \n",
        "            Conv2D(filters=32, kernel_size=(5, 5), strides=(2,2), activation=\"relu\"),\n",
        "            BatchNormalization(),\n",
        "            Dropout(0.4),\n",
        "         \n",
        "            Flatten(),\n",
        "            Dense(num_classes, activation=\"softmax\"),\n",
        "        ]\n",
        "    )\n",
        "\n",
        "    model.summary()\n",
        "    return model\n",
        "\n"
      ],
      "execution_count": null,
      "outputs": []
    },
    {
      "cell_type": "markdown",
      "metadata": {
        "id": "r2XIOGBE240D"
      },
      "source": [
        "### Training the network\n",
        "For the optimizer we will use classic Stochastic Gradient Descent. There exist more advanced optimizers like Adam, but we will skip those for now. The loss defines how we punish the network for a mistake. Without going into the details Categorical Crossentropy is generally used with classification."
      ]
    },
    {
      "cell_type": "code",
      "metadata": {
        "id": "DWfU_UfNyo0m",
        "colab": {
          "base_uri": "https://localhost:8080/"
        },
        "outputId": "e80f4b1a-904f-4275-ab38-0fba84a5adf9"
      },
      "source": [
        "num_epochs = 5\n",
        "batch_size = 32\n",
        "input_shape = X_train.shape[1:]\n",
        "num_classes = y_train.shape[-1]\n",
        "\n",
        "model = define_cnn(input_shape, num_classes)\n",
        "model.compile(optimizer='adam', loss='categorical_crossentropy', metrics=['accuracy'])\n",
        "# Train and test\n",
        "H = model.fit(X_train, y_train, batch_size=batch_size, epochs=num_epochs, validation_data=(X_test, y_test))"
      ],
      "execution_count": null,
      "outputs": [
        {
          "output_type": "stream",
          "name": "stdout",
          "text": [
            "Model: \"sequential_4\"\n",
            "_________________________________________________________________\n",
            "Layer (type)                 Output Shape              Param #   \n",
            "=================================================================\n",
            "conv2d_8 (Conv2D)            (None, 26, 26, 32)        320       \n",
            "_________________________________________________________________\n",
            "batch_normalization (BatchNo (None, 26, 26, 32)        128       \n",
            "_________________________________________________________________\n",
            "dropout (Dropout)            (None, 26, 26, 32)        0         \n",
            "_________________________________________________________________\n",
            "conv2d_9 (Conv2D)            (None, 24, 24, 32)        9248      \n",
            "_________________________________________________________________\n",
            "batch_normalization_1 (Batch (None, 24, 24, 32)        128       \n",
            "_________________________________________________________________\n",
            "dropout_1 (Dropout)          (None, 24, 24, 32)        0         \n",
            "_________________________________________________________________\n",
            "conv2d_10 (Conv2D)           (None, 10, 10, 32)        25632     \n",
            "_________________________________________________________________\n",
            "batch_normalization_2 (Batch (None, 10, 10, 32)        128       \n",
            "_________________________________________________________________\n",
            "dropout_2 (Dropout)          (None, 10, 10, 32)        0         \n",
            "_________________________________________________________________\n",
            "flatten_4 (Flatten)          (None, 3200)              0         \n",
            "_________________________________________________________________\n",
            "dense_4 (Dense)              (None, 10)                32010     \n",
            "=================================================================\n",
            "Total params: 67,594\n",
            "Trainable params: 67,402\n",
            "Non-trainable params: 192\n",
            "_________________________________________________________________\n",
            "Epoch 1/5\n",
            "1875/1875 [==============================] - 22s 11ms/step - loss: 0.5729 - accuracy: 0.8073 - val_loss: 0.3623 - val_accuracy: 0.8731\n",
            "Epoch 2/5\n",
            "1875/1875 [==============================] - 21s 11ms/step - loss: 0.3738 - accuracy: 0.8649 - val_loss: 0.3213 - val_accuracy: 0.8840\n",
            "Epoch 3/5\n",
            "1875/1875 [==============================] - 21s 11ms/step - loss: 0.3307 - accuracy: 0.8803 - val_loss: 0.2898 - val_accuracy: 0.8966\n",
            "Epoch 4/5\n",
            "1875/1875 [==============================] - 21s 11ms/step - loss: 0.3024 - accuracy: 0.8909 - val_loss: 0.2719 - val_accuracy: 0.9017\n",
            "Epoch 5/5\n",
            "1875/1875 [==============================] - 21s 11ms/step - loss: 0.2810 - accuracy: 0.8968 - val_loss: 0.2653 - val_accuracy: 0.9023\n"
          ]
        }
      ]
    },
    {
      "cell_type": "code",
      "metadata": {
        "id": "6HpDQN0tyLFt",
        "colab": {
          "base_uri": "https://localhost:8080/"
        },
        "outputId": "2f9a3752-2a92-4e73-aee9-56526bd18558"
      },
      "source": [
        "score = model.evaluate(X_test, y_test, verbose=0)\n",
        "print(\"Test loss:\", score[0])\n",
        "print(\"Test accuracy:\", score[1])"
      ],
      "execution_count": null,
      "outputs": [
        {
          "output_type": "stream",
          "name": "stdout",
          "text": [
            "Test loss: 0.2652985155582428\n",
            "Test accuracy: 0.9023000001907349\n"
          ]
        }
      ]
    },
    {
      "cell_type": "markdown",
      "metadata": {
        "id": "JYksOsW1yo0m"
      },
      "source": [
        "## **Challenge 2:** Tune the CNN\n",
        "2.1: Add convolutional layers, change kernel and filter sizes to get to a 98% accuracy on the test dataset\n",
        "\n",
        "2.2: Go back to the data loader and change the MNIST loader to the Fashion MNIST loader \"fashion_mnist.load_data()\". Tune the parameters until you reach an accuracy of 87% on the test dataset.\n",
        "\n",
        "2.3 (Advanced): Include max-pooling, dropout, and batch normalization layers to reach a test accuracy of 90% on the test set.\n",
        "\n",
        "\n",
        "\n"
      ]
    },
    {
      "cell_type": "markdown",
      "metadata": {
        "id": "vA_9-0km8IYN"
      },
      "source": [
        "## **Challenge 3 (Extra Advanced):** Forecasting and RNNs\n",
        "Forecasting is a special branch of machine learning regression problems where you try to predict how the trend will proceed. Often this is still most successful with more classical statistical methods like variants on the Moving Average algorithm. These types of algorithms often require a better understanding of the dataset since its parameters really make or break the model. Note that for the following challenges no solutions are available and therefore no support will be provided.\n",
        "\n",
        "3.1 Facebook has created an algorithm called Prophet which is based on statistical methods which makes it a bit easier to create such models and often outperforms other algorithms. Install and deploy Prophet on the dataset below.\n",
        "\n",
        "3.2 Rolling SARIMAX is one of the most powerful statistical forecasting methods. While the algorithm itself is not too complex it can be hard to choose the correct parameters. Deploy a Rolling SARIMAX algorithm on the dataset below.\n",
        "\n",
        "3.3 RNNs are very well suited for forecasting use cases, more specifically the LSTM and GRU types of RNNs often work well (not perse better than the above methods). RNNs will come up themselves with the parameters you had to define in previous algorithms, however that does not make them easier to deploy. Use an LSTM to forecast on the dataset below.\n"
      ]
    },
    {
      "cell_type": "code",
      "metadata": {
        "colab": {
          "base_uri": "https://localhost:8080/"
        },
        "id": "h2-fNc0mVxiP",
        "outputId": "17d097fa-1740-4ad5-a680-f9b7f6870ab4"
      },
      "source": [
        "!pip install pystan==2.19.1.1\n",
        "!pip install prophet"
      ],
      "execution_count": null,
      "outputs": [
        {
          "output_type": "stream",
          "name": "stdout",
          "text": [
            "Requirement already satisfied: pystan==2.19.1.1 in /usr/local/lib/python3.7/dist-packages (2.19.1.1)\n",
            "Requirement already satisfied: numpy>=1.7 in /usr/local/lib/python3.7/dist-packages (from pystan==2.19.1.1) (1.19.5)\n",
            "Requirement already satisfied: Cython!=0.25.1,>=0.22 in /usr/local/lib/python3.7/dist-packages (from pystan==2.19.1.1) (0.29.24)\n",
            "Collecting prophet\n",
            "  Downloading prophet-1.0.1.tar.gz (65 kB)\n",
            "\u001b[K     |████████████████████████████████| 65 kB 2.2 MB/s \n",
            "\u001b[?25hRequirement already satisfied: Cython>=0.22 in /usr/local/lib/python3.7/dist-packages (from prophet) (0.29.24)\n",
            "Collecting cmdstanpy==0.9.68\n",
            "  Downloading cmdstanpy-0.9.68-py3-none-any.whl (49 kB)\n",
            "\u001b[K     |████████████████████████████████| 49 kB 4.7 MB/s \n",
            "\u001b[?25hRequirement already satisfied: pystan~=2.19.1.1 in /usr/local/lib/python3.7/dist-packages (from prophet) (2.19.1.1)\n",
            "Requirement already satisfied: numpy>=1.15.4 in /usr/local/lib/python3.7/dist-packages (from prophet) (1.19.5)\n",
            "Requirement already satisfied: pandas>=1.0.4 in /usr/local/lib/python3.7/dist-packages (from prophet) (1.1.5)\n",
            "Requirement already satisfied: matplotlib>=2.0.0 in /usr/local/lib/python3.7/dist-packages (from prophet) (3.2.2)\n",
            "Requirement already satisfied: LunarCalendar>=0.0.9 in /usr/local/lib/python3.7/dist-packages (from prophet) (0.0.9)\n",
            "Requirement already satisfied: convertdate>=2.1.2 in /usr/local/lib/python3.7/dist-packages (from prophet) (2.3.2)\n",
            "Requirement already satisfied: holidays>=0.10.2 in /usr/local/lib/python3.7/dist-packages (from prophet) (0.10.5.2)\n",
            "Requirement already satisfied: setuptools-git>=1.2 in /usr/local/lib/python3.7/dist-packages (from prophet) (1.2)\n",
            "Requirement already satisfied: python-dateutil>=2.8.0 in /usr/local/lib/python3.7/dist-packages (from prophet) (2.8.2)\n",
            "Requirement already satisfied: tqdm>=4.36.1 in /usr/local/lib/python3.7/dist-packages (from prophet) (4.62.2)\n",
            "Collecting ujson\n",
            "  Downloading ujson-4.2.0-cp37-cp37m-manylinux_2_17_x86_64.manylinux2014_x86_64.whl (214 kB)\n",
            "\u001b[K     |████████████████████████████████| 214 kB 11.1 MB/s \n",
            "\u001b[?25hRequirement already satisfied: pytz>=2014.10 in /usr/local/lib/python3.7/dist-packages (from convertdate>=2.1.2->prophet) (2018.9)\n",
            "Requirement already satisfied: pymeeus<=1,>=0.3.13 in /usr/local/lib/python3.7/dist-packages (from convertdate>=2.1.2->prophet) (0.5.11)\n",
            "Requirement already satisfied: korean-lunar-calendar in /usr/local/lib/python3.7/dist-packages (from holidays>=0.10.2->prophet) (0.2.1)\n",
            "Requirement already satisfied: six in /usr/local/lib/python3.7/dist-packages (from holidays>=0.10.2->prophet) (1.15.0)\n",
            "Requirement already satisfied: hijri-converter in /usr/local/lib/python3.7/dist-packages (from holidays>=0.10.2->prophet) (2.2.1)\n",
            "Requirement already satisfied: ephem>=3.7.5.3 in /usr/local/lib/python3.7/dist-packages (from LunarCalendar>=0.0.9->prophet) (4.0.0.2)\n",
            "Requirement already satisfied: kiwisolver>=1.0.1 in /usr/local/lib/python3.7/dist-packages (from matplotlib>=2.0.0->prophet) (1.3.2)\n",
            "Requirement already satisfied: pyparsing!=2.0.4,!=2.1.2,!=2.1.6,>=2.0.1 in /usr/local/lib/python3.7/dist-packages (from matplotlib>=2.0.0->prophet) (2.4.7)\n",
            "Requirement already satisfied: cycler>=0.10 in /usr/local/lib/python3.7/dist-packages (from matplotlib>=2.0.0->prophet) (0.10.0)\n",
            "Building wheels for collected packages: prophet\n",
            "  Building wheel for prophet (setup.py) ... \u001b[?25l\u001b[?25hdone\n",
            "  Created wheel for prophet: filename=prophet-1.0.1-py3-none-any.whl size=6640137 sha256=1673d486e4baca3024aae961bd51dabcaefd4790c22fd2e4b50fedf25f1a8f3c\n",
            "  Stored in directory: /root/.cache/pip/wheels/4e/a0/1a/02c9ec9e3e9de6bdbb3d769d11992a6926889d71567d6b9b67\n",
            "Successfully built prophet\n",
            "Installing collected packages: ujson, cmdstanpy, prophet\n",
            "  Attempting uninstall: cmdstanpy\n",
            "    Found existing installation: cmdstanpy 0.9.5\n",
            "    Uninstalling cmdstanpy-0.9.5:\n",
            "      Successfully uninstalled cmdstanpy-0.9.5\n",
            "\u001b[31mERROR: pip's dependency resolver does not currently take into account all the packages that are installed. This behaviour is the source of the following dependency conflicts.\n",
            "fbprophet 0.7.1 requires cmdstanpy==0.9.5, but you have cmdstanpy 0.9.68 which is incompatible.\u001b[0m\n",
            "Successfully installed cmdstanpy-0.9.68 prophet-1.0.1 ujson-4.2.0\n"
          ]
        }
      ]
    },
    {
      "cell_type": "code",
      "metadata": {
        "id": "U2yFSUDXWz-_"
      },
      "source": [
        "from prophet import Prophet"
      ],
      "execution_count": null,
      "outputs": []
    },
    {
      "cell_type": "code",
      "metadata": {
        "id": "lvMB0-8Vyo0k",
        "colab": {
          "base_uri": "https://localhost:8080/",
          "height": 282
        },
        "outputId": "d2d7610a-4ac3-4c21-de27-ae230eaa3a79"
      },
      "source": [
        "df = pd.read_csv('https://raw.githubusercontent.com/jbrownlee/Datasets/master/airline-passengers.csv', usecols=[1], engine='python')\n",
        "plt.plot(df)\n",
        "plt.show()\n",
        "print(len(df))"
      ],
      "execution_count": null,
      "outputs": [
        {
          "output_type": "display_data",
          "data": {
            "image/png": "[encoded data removed]",
            "text/plain": [
              "<Figure size 432x288 with 1 Axes>"
            ]
          },
          "metadata": {
            "needs_background": "light"
          }
        },
        {
          "output_type": "stream",
          "name": "stdout",
          "text": [
            "144\n"
          ]
        }
      ]
    },
    {
      "cell_type": "code",
      "metadata": {
        "id": "Xa9Bz-HXYHVQ"
      },
      "source": [
        "df[\"ds\"] = pd.date_range(start='1/1/2018', periods=144)\n",
        "df[\"y\"] = df[\"Passengers\"]"
      ],
      "execution_count": null,
      "outputs": []
    },
    {
      "cell_type": "code",
      "metadata": {
        "colab": {
          "base_uri": "https://localhost:8080/"
        },
        "id": "bdzhHcQMZn1n",
        "outputId": "da182be7-fb40-44b5-a52f-a5b15dfe5c54"
      },
      "source": [
        "\n",
        "len(train)"
      ],
      "execution_count": null,
      "outputs": [
        {
          "output_type": "execute_result",
          "data": {
            "text/plain": [
              "36"
            ]
          },
          "metadata": {},
          "execution_count": 48
        }
      ]
    },
    {
      "cell_type": "code",
      "metadata": {
        "id": "Vj4RStrdSxMz",
        "colab": {
          "base_uri": "https://localhost:8080/",
          "height": 900
        },
        "outputId": "b3b8056e-2f4b-4c5a-93e9-ef24b8ac800c"
      },
      "source": [
        "test_steps = 36\n",
        "train, test = df[:test_steps], df[-test_steps:]\n",
        "\n",
        "model = Prophet()\n",
        "model.fit(train)\n",
        "\n",
        "future = model.make_future_dataframe(periods=144-36)\n",
        "\n",
        "forecast = model.predict(future)\n",
        "\n",
        "model.plot(forecast)"
      ],
      "execution_count": null,
      "outputs": [
        {
          "output_type": "stream",
          "name": "stderr",
          "text": [
            "INFO:prophet:Disabling yearly seasonality. Run prophet with yearly_seasonality=True to override this.\n",
            "INFO:prophet:Disabling daily seasonality. Run prophet with daily_seasonality=True to override this.\n"
          ]
        },
        {
          "output_type": "execute_result",
          "data": {
            "image/png": "[encoded data removed]",
            "text/plain": [
              "<Figure size 720x432 with 1 Axes>"
            ]
          },
          "metadata": {},
          "execution_count": 50
        },
        {
          "output_type": "display_data",
          "data": {
            "image/png": "[encoded data removed]",
            "text/plain": [
              "<Figure size 720x432 with 1 Axes>"
            ]
          },
          "metadata": {}
        }
      ]
    }
  ]
}